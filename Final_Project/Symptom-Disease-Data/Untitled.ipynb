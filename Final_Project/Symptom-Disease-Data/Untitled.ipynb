{
 "cells": [
  {
   "cell_type": "markdown",
   "metadata": {},
   "source": [
    "**Imports and Setup**"
   ]
  },
  {
   "cell_type": "code",
   "execution_count": 2,
   "metadata": {},
   "outputs": [],
   "source": [
    "#Import HTML parsers\n",
    "import requests as re\n",
    "from bs4 import BeautifulSoup as bs\n",
    "#import pandas for easy CSV and DataFrame Usage\n",
    "import pandas as pd"
   ]
  },
  {
   "cell_type": "code",
   "execution_count": 76,
   "metadata": {},
   "outputs": [
    {
     "name": "stdout",
     "output_type": "stream",
     "text": [
      "                                               Disease Count  \\\n",
      "0                   UMLS:C0020538_hypertensive disease  1421   \n",
      "1                               UMLS:C0011847_diabetes  1337   \n",
      "2    UMLS:C0011570_depression mental^UMLS:C0011581_...  1284   \n",
      "3    UMLS:C0010054_coronary arteriosclerosis^UMLS:C...  1029   \n",
      "4                              UMLS:C0032285_pneumonia   963   \n",
      "..                                                 ...   ...   \n",
      "128                    UMLS:C0039239_tachycardia sinus    56   \n",
      "129                                UMLS:C1258215_ileus    57   \n",
      "130                             UMLS:C0001511_adhesion    56   \n",
      "131                             UMLS:C0011253_delusion    45   \n",
      "132                        UMLS:C0233472_affect labile    42   \n",
      "\n",
      "                                              Symptoms  \n",
      "0    [UMLS:C0008031_pain chest, UMLS:C0392680_short...  \n",
      "1    [UMLS:C0032617_polyuria, UMLS:C0085602_polydyp...  \n",
      "2    [UMLS:C0424000_feeling suicidal, UMLS:C0438696...  \n",
      "3    [UMLS:C0008031_pain chest, UMLS:C0002962_angin...  \n",
      "4    [UMLS:C0010200_cough, UMLS:C0015967_fever, UML...  \n",
      "..                                                 ...  \n",
      "128  [UMLS:C0238705_left atrial hypertrophy, UMLS:C...  \n",
      "129  [UMLS:C0549483_abscess bacterial, UMLS:C000072...  \n",
      "130  [UMLS:C0016204_flatulence, UMLS:C0030193_pain,...  \n",
      "131  [UMLS:C0240233_loose associations, UMLS:C03927...  \n",
      "132  [UMLS:C0277794_extreme exhaustion, UMLS:C09178...  \n",
      "\n",
      "[133 rows x 3 columns]\n"
     ]
    }
   ],
   "source": [
    "URL = 'https://people.dbmi.columbia.edu/~friedma/Projects/DiseaseSymptomKB/index.html'\n",
    "page = re.get(URL)\n",
    "soup = bs(page.content, 'html.parser')\n",
    "\n",
    "\n",
    "data = pd.DataFrame(columns={'Disease', 'Count', 'Symptoms'})\n",
    "data = data[['Disease','Count', 'Symptoms']] # ensures correct order of columns\n",
    "\n",
    "\n",
    "rows = soup.findAll(\"tr\")\n",
    "disease = \"\"\n",
    "count = 0\n",
    "symptoms = []\n",
    "\n",
    "for index, row in enumerate(rows):\n",
    "    if index >= 1:\n",
    "        cells = row.findAll(\"td\")\n",
    "        try:\n",
    "            count = int(cells[1].text)\n",
    "            if index >= 2:\n",
    "                #print(disease, count, symptoms)\n",
    "                datarow = {'Disease':disease,'Count':count,'Symptoms':symptoms}\n",
    "                #print(datarow)\n",
    "                data.loc[len(data.index)] = datarow\n",
    "                #data.append(datarow, ignore_index=True)\n",
    "            symptoms = []\n",
    "            disease = cells[0].text.replace(\"\\n\", \"\")\n",
    "            disease = disease.replace(\"  \", \" \")\n",
    "            #print(disease)\n",
    "            symptoms.append(cells[2].text.replace(\"\\n\", \"\"))\n",
    "            symptoms[0] = symptoms[0].replace(\"  \", \" \")\n",
    "            #print(symptoms[0])\n",
    "        except ValueError:\n",
    "            str = cells[2].text.replace(\"\\n\", \"\")\n",
    "            str = str.replace(\"  \", \" \")\n",
    "            symptoms.append(str)\n",
    "            pass\n",
    "print(data)\n",
    "data.to_csv('dataFile.csv')"
   ]
  },
  {
   "cell_type": "code",
   "execution_count": null,
   "metadata": {},
   "outputs": [],
   "source": []
  }
 ],
 "metadata": {
  "kernelspec": {
   "display_name": "Python (EECS_649)~",
   "language": "python",
   "name": "eecs_649"
  },
  "language_info": {
   "codemirror_mode": {
    "name": "ipython",
    "version": 3
   },
   "file_extension": ".py",
   "mimetype": "text/x-python",
   "name": "python",
   "nbconvert_exporter": "python",
   "pygments_lexer": "ipython3",
   "version": "3.7.10"
  }
 },
 "nbformat": 4,
 "nbformat_minor": 5
}
